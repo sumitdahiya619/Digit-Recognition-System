{
  "nbformat": 4,
  "nbformat_minor": 0,
  "metadata": {
    "colab": {
      "name": "SVM.ipynb",
      "provenance": [],
      "authorship_tag": "ABX9TyM6l/E07vjTM72adp6kIOUh",
      "include_colab_link": true
    },
    "kernelspec": {
      "name": "python3",
      "display_name": "Python 3"
    }
  },
  "cells": [
    {
      "cell_type": "markdown",
      "metadata": {
        "id": "view-in-github",
        "colab_type": "text"
      },
      "source": [
        "<a href=\"https://colab.research.google.com/github/sumitdahiya619/Digit-Recognition-System/blob/main/SVM.ipynb\" target=\"_parent\"><img src=\"https://colab.research.google.com/assets/colab-badge.svg\" alt=\"Open In Colab\"/></a>"
      ]
    },
    {
      "cell_type": "code",
      "metadata": {
        "id": "2y4tboXFw8tN",
        "outputId": "018de49e-ec4d-44bf-ae37-8791a1ab58a1",
        "colab": {
          "base_uri": "https://localhost:8080/",
          "height": 50
        }
      },
      "source": [
        "import tensorflow as tf\n",
        "(x_train,y_train),(x_test,y_test) = tf.keras.datasets.mnist.load_data()"
      ],
      "execution_count": null,
      "outputs": [
        {
          "output_type": "stream",
          "text": [
            "Downloading data from https://storage.googleapis.com/tensorflow/tf-keras-datasets/mnist.npz\n",
            "11493376/11490434 [==============================] - 0s 0us/step\n"
          ],
          "name": "stdout"
        }
      ]
    },
    {
      "cell_type": "code",
      "metadata": {
        "id": "Z9eZDe9BpPOI"
      },
      "source": [
        "x_train=x_train[:12000]\n",
        "y_train=y_train[:12000]\n",
        "x_test=x_test[:5000]\n",
        "y_test=y_test[:5000]"
      ],
      "execution_count": null,
      "outputs": []
    },
    {
      "cell_type": "code",
      "metadata": {
        "id": "J86EGE2azROT",
        "outputId": "7279ed22-b923-40aa-b542-dcc357537130",
        "colab": {
          "base_uri": "https://localhost:8080/",
          "height": 84
        }
      },
      "source": [
        "print(x_train.shape)\n",
        "print(y_train.shape)\n",
        "print(x_test.shape)\n",
        "print(y_test.shape)"
      ],
      "execution_count": null,
      "outputs": [
        {
          "output_type": "stream",
          "text": [
            "(12000, 28, 28)\n",
            "(12000,)\n",
            "(5000, 28, 28)\n",
            "(5000,)\n"
          ],
          "name": "stdout"
        }
      ]
    },
    {
      "cell_type": "code",
      "metadata": {
        "id": "Y8_l8MKRy6ev"
      },
      "source": [
        "x_train=x_train.reshape(x_train.shape[0],784)\n",
        "x_test=x_test.reshape(x_test.shape[0],784)"
      ],
      "execution_count": null,
      "outputs": []
    },
    {
      "cell_type": "code",
      "metadata": {
        "id": "JiRwQqYIz8Oe"
      },
      "source": [
        "from sklearn import svm\n",
        "from sklearn import metrics"
      ],
      "execution_count": null,
      "outputs": []
    },
    {
      "cell_type": "code",
      "metadata": {
        "id": "yX12XCzefpPY",
        "outputId": "451b0f78-06dd-4bb6-df44-b05c8b9a50a7",
        "colab": {
          "base_uri": "https://localhost:8080/",
          "height": 84
        }
      },
      "source": [
        "model=svm.SVC(kernel=\"poly\")\n",
        "\n",
        "model.fit(x_train,y_train)"
      ],
      "execution_count": null,
      "outputs": [
        {
          "output_type": "execute_result",
          "data": {
            "text/plain": [
              "SVC(C=1.0, break_ties=False, cache_size=200, class_weight=None, coef0=0.0,\n",
              "    decision_function_shape='ovr', degree=3, gamma='scale', kernel='poly',\n",
              "    max_iter=-1, probability=False, random_state=None, shrinking=True,\n",
              "    tol=0.001, verbose=False)"
            ]
          },
          "metadata": {
            "tags": []
          },
          "execution_count": 6
        }
      ]
    },
    {
      "cell_type": "code",
      "metadata": {
        "id": "x13SoXQM0J6S"
      },
      "source": [
        "y_pred=model.predict(x_test)"
      ],
      "execution_count": null,
      "outputs": []
    },
    {
      "cell_type": "code",
      "metadata": {
        "id": "lHnm9I7siAlw",
        "outputId": "c9c9a307-2eb7-4aa6-f5b2-0267198d5374",
        "colab": {
          "base_uri": "https://localhost:8080/",
          "height": 33
        }
      },
      "source": [
        "metrics.accuracy_score(y_test,y_pred)"
      ],
      "execution_count": null,
      "outputs": [
        {
          "output_type": "execute_result",
          "data": {
            "text/plain": [
              "0.9374"
            ]
          },
          "metadata": {
            "tags": []
          },
          "execution_count": 8
        }
      ]
    },
    {
      "cell_type": "code",
      "metadata": {
        "id": "SmLFzm8eQ3f4",
        "outputId": "c66240b0-a1ad-480e-d230-df591360ad1e",
        "colab": {
          "base_uri": "https://localhost:8080/"
        }
      },
      "source": [
        "cm=metrics.confusion_matrix(y_test,y_pred,[0,1,2,3,4,5,6,7,8,9])\n",
        "print(cm)"
      ],
      "execution_count": 18,
      "outputs": [
        {
          "output_type": "stream",
          "text": [
            "[[446   0   2   0   0   8   3   0   1   0]\n",
            " [  0 563   3   2   0   0   2   0   1   0]\n",
            " [  7   7 491   3   3   2   3  10   3   1]\n",
            " [  0   5   3 468   0  10   1  10   2   1]\n",
            " [  0   3   1   0 474   0   6   0   1  15]\n",
            " [  2   2   0  10   4 426   4   0   5   3]\n",
            " [  6   6   0   0   8   4 436   0   2   0]\n",
            " [  0  18  10   5   3   0   0 466   2   8]\n",
            " [  5   6   3  11   5   8   1   4 440   6]\n",
            " [  5  10   0   6  14   1   0   3   4 477]]\n"
          ],
          "name": "stdout"
        }
      ]
    },
    {
      "cell_type": "code",
      "metadata": {
        "id": "sb8OBBMHZZRg"
      },
      "source": [
        "import matplotlib.pyplot as plt"
      ],
      "execution_count": 22,
      "outputs": []
    },
    {
      "cell_type": "code",
      "metadata": {
        "id": "oTihDvopaohc",
        "outputId": "5afbbe2d-64a1-4813-fa1f-c3acd70be597",
        "colab": {
          "base_uri": "https://localhost:8080/"
        }
      },
      "source": [
        "#metrics.classification_report(y_test,y_pred)\n",
        "print(\"Classification report for classifier %s:\\n%s\\n\" % (model, metrics.classification_report(y_test, y_pred)))"
      ],
      "execution_count": 30,
      "outputs": [
        {
          "output_type": "stream",
          "text": [
            "Classification report for classifier SVC(C=1.0, break_ties=False, cache_size=200, class_weight=None, coef0=0.0,\n",
            "    decision_function_shape='ovr', degree=3, gamma='scale', kernel='poly',\n",
            "    max_iter=-1, probability=False, random_state=None, shrinking=True,\n",
            "    tol=0.001, verbose=False):\n",
            "              precision    recall  f1-score   support\n",
            "\n",
            "           0       0.95      0.97      0.96       460\n",
            "           1       0.91      0.99      0.95       571\n",
            "           2       0.96      0.93      0.94       530\n",
            "           3       0.93      0.94      0.93       500\n",
            "           4       0.93      0.95      0.94       500\n",
            "           5       0.93      0.93      0.93       456\n",
            "           6       0.96      0.94      0.95       462\n",
            "           7       0.95      0.91      0.93       512\n",
            "           8       0.95      0.90      0.93       489\n",
            "           9       0.93      0.92      0.93       520\n",
            "\n",
            "    accuracy                           0.94      5000\n",
            "   macro avg       0.94      0.94      0.94      5000\n",
            "weighted avg       0.94      0.94      0.94      5000\n",
            "\n",
            "\n"
          ],
          "name": "stdout"
        }
      ]
    },
    {
      "cell_type": "code",
      "metadata": {
        "id": "SFzk96AXSMFc",
        "outputId": "5befc226-da83-42f6-e0a0-0ab5c3a41445",
        "colab": {
          "base_uri": "https://localhost:8080/",
          "height": 279
        }
      },
      "source": [
        "metrics.plot_confusion_matrix(model,x_test,y_test,[0,1,2,3,4,5,6,7,8,9],normalize='true')"
      ],
      "execution_count": 32,
      "outputs": [
        {
          "output_type": "display_data",
          "data": {
            "image/png": "[encoded data removed]",
            "text/plain": [
              "<Figure size 432x288 with 2 Axes>"
            ]
          },
          "metadata": {
            "tags": [],
            "needs_background": "light"
          }
        }
      ]
    },
    {
      "cell_type": "code",
      "metadata": {
        "id": "IL_T1hKmST2l",
        "outputId": "dbd66d21-f3b7-473f-d86e-e6ccdb080841",
        "colab": {
          "base_uri": "https://localhost:8080/"
        }
      },
      "source": [
        "precision=metrics.precision_score(y_test,y_pred,average=None)\n",
        "recall=metrics.recall_score(y_test,y_pred,average=None)\n",
        "print(precision,\"\\n\",recall)"
      ],
      "execution_count": 42,
      "outputs": [
        {
          "output_type": "stream",
          "text": [
            "[0.94692144 0.90806452 0.95711501 0.92673267 0.92759295 0.92810458\n",
            " 0.95614035 0.94523327 0.95444685 0.9334638 ] \n",
            " [0.96956522 0.98598949 0.92641509 0.936      0.948      0.93421053\n",
            " 0.94372294 0.91015625 0.8997955  0.91730769]\n"
          ],
          "name": "stdout"
        }
      ]
    },
    {
      "cell_type": "code",
      "metadata": {
        "id": "tUeDMgWicvR2"
      },
      "source": [
        ""
      ],
      "execution_count": null,
      "outputs": []
    }
  ]
}